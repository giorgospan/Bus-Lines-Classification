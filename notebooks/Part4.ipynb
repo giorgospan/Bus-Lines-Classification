{
 "cells": [
  {
   "cell_type": "markdown",
   "metadata": {},
   "source": [
    "# Part 4"
   ]
  },
  {
   "cell_type": "markdown",
   "metadata": {},
   "source": [
    "Import some modules"
   ]
  },
  {
   "cell_type": "code",
   "execution_count": 1,
   "metadata": {},
   "outputs": [],
   "source": [
    "import pandas as pd\n",
    "import numpy as np\n",
    "import time\n",
    "\n",
    "from Queue import PriorityQueue\n",
    "from fastdtw import fastdtw,dtw\n",
    "from haversine import haversine\n",
    "from ast import literal_eval\n",
    "from utils import create_csv,remove_time,majority_voting,mydtw\n",
    "from sklearn.model_selection import cross_validate,cross_val_score\n",
    "from sklearn.base import BaseEstimator, ClassifierMixin"
   ]
  },
  {
   "cell_type": "markdown",
   "metadata": {},
   "source": [
    "- Open train_set.csv\n",
    "- Open test_set_a2.csv"
   ]
  },
  {
   "cell_type": "code",
   "execution_count": 2,
   "metadata": {},
   "outputs": [],
   "source": [
    "trainSet = pd.read_csv(\n",
    "'../datasets/train_set.csv',\n",
    "converters={\"Trajectory\": literal_eval},\n",
    "index_col='tripId'\n",
    ")\n",
    "\n",
    "testSet_a2 = pd.read_csv(\n",
    "'../datasets/test_set_a2.csv',\n",
    "sep='\\t',\n",
    "converters={\"Trajectory\": literal_eval},\n",
    ")"
   ]
  },
  {
   "cell_type": "markdown",
   "metadata": {},
   "source": [
    "- We remove timestamps because we do not need them .  \n",
    "- Also, we reverse latitude-longitude pairs , because they were given in the wrong order"
   ]
  },
  {
   "cell_type": "code",
   "execution_count": 3,
   "metadata": {},
   "outputs": [],
   "source": [
    "trainSet.apply(func=remove_time,axis=1,reduce=False)\n",
    "testSet_a2.apply(func=remove_time,axis=1,reduce=False);"
   ]
  },
  {
   "cell_type": "markdown",
   "metadata": {},
   "source": [
    "- This is our own KNN Classifier\n",
    "- It is a subclass of [BaseEstimator](http://scikit-learn.org/stable/modules/generated/sklearn.base.BaseEstimator.html) and [ClassifierMixin](http://scikit-learn.org/stable/modules/generated/sklearn.base.ClassifierMixin.html)"
   ]
  },
  {
   "cell_type": "code",
   "execution_count": 4,
   "metadata": {},
   "outputs": [],
   "source": [
    "class NeighborsClassifier(BaseEstimator,ClassifierMixin):\n",
    "    \n",
    "    def __init__(self, n_neighbors=5,metric=fastdtw):\n",
    "        if n_neighbors < 1 :\n",
    "            raise ValueError(\"Expected n_neighbors > 0. Got %d\"%(n_neighbors))\n",
    "        \n",
    "        self.n_neighbors = n_neighbors\n",
    "        self.metric   = metric\n",
    "\n",
    "    def fit(self, trainSet, labels):\n",
    "        len1 ,len2 = len(trainSet) , len(labels)\n",
    "        if len1 != len2:\n",
    "            raise ValueError(\"Found input variables with inconsistent numbers of samples: [%d,%d]\"%(len1,len2))\n",
    "        \n",
    "        self.trainSet = trainSet\n",
    "        self.labels   = labels\n",
    "        \n",
    "    def predict(self,X):\n",
    "        predicted = []\n",
    "\n",
    "        for query in X:\n",
    "            distances  = PriorityQueue()\n",
    "            for i,train in enumerate(self.trainSet):\n",
    "                \n",
    "                # Calculate DTW distance using Haversine's formula\n",
    "                # Add (distance,journeyPatternId) to the queue\n",
    "                dist  = self.metric(query,train,dist=haversine)[0]\n",
    "#                 dist = mydtw(query,train,dist=haversine)[0]\n",
    "#                 dist = dtw(query,train,dist=haversine)[0]\n",
    "                jp_id = self.labels[i]\n",
    "                distances.put((dist,jp_id))\n",
    "            \n",
    "            # Fetch the labels of the k nearest neighbors\n",
    "            nearest = [neighbor[1] for neighbor in [distances.get() for _ in range(5)]]\n",
    "\n",
    "            # Apply majority voting.\n",
    "            # Append result on predicted list\n",
    "            predicted.append(majority_voting(nearest))\n",
    "        \n",
    "        return predicted"
   ]
  },
  {
   "cell_type": "code",
   "execution_count": null,
   "metadata": {},
   "outputs": [],
   "source": [
    "X = trainSet['Trajectory']\n",
    "y = list(trainSet['journeyPatternId'])\n",
    "\n",
    "queries    = testSet_a2['Trajectory']\n",
    "tripIdList = testSet_a2.index.values\n",
    "\n",
    "# Initialize our classifier \n",
    "clf  = NeighborsClassifier(metric=fastdtw)"
   ]
  },
  {
   "cell_type": "markdown",
   "metadata": {},
   "source": [
    "- Cross Validation\n",
    "\n",
    "**Note:**\n",
    "n_jobs is set to -1 in order to exploit all cpu cores "
   ]
  },
  {
   "cell_type": "code",
   "execution_count": null,
   "metadata": {
    "scrolled": true
   },
   "outputs": [
    {
     "name": "stderr",
     "output_type": "stream",
     "text": [
      "/home/george/anaconda2/lib/python2.7/site-packages/sklearn/model_selection/_split.py:605: Warning: The least populated class in y has only 1 members, which is too few. The minimum number of members in any class cannot be less than n_splits=10.\n",
      "  % (min_groups, self.n_splits)), Warning)\n"
     ]
    }
   ],
   "source": [
    "start = time.time()\n",
    "percent = len(X[:1500]) / float(len(trainSet)) * 100\n",
    "cv = 10\n",
    "scores = cross_validate(clf,X[:1500],y[:1500],cv=cv,return_train_score=False,scoring='accuracy',n_jobs=-1)\n",
    "print 'Cross Validation (folds = %d, %.2f%% of trainSet)'%(cv,percent)\n",
    "print '============================================='\n",
    "print 'Time    :',round(time.time()-start,2),'sec'\n",
    "print(\"Accuracy: %0.2f (+/- %0.2f)\\n\" % (scores['test_score'].mean(), scores['test_score'].std() * 2))"
   ]
  },
  {
   "cell_type": "markdown",
   "metadata": {},
   "source": [
    "- Fit our classifier\n",
    "- Make predictions for the given queries\n",
    "- Output results to testSet_JourneyPatternIDs.csv"
   ]
  },
  {
   "cell_type": "code",
   "execution_count": null,
   "metadata": {
    "scrolled": true
   },
   "outputs": [],
   "source": [
    "clf.fit(X,y)\n",
    "predictions = clf.predict(queries)\n",
    "create_csv(tripIdList,predictions)\n",
    "pd.read_csv('../testSet_JourneyPatternIDs.csv',sep='\\t')"
   ]
  }
 ],
 "metadata": {
  "kernelspec": {
   "display_name": "Python 2",
   "language": "python",
   "name": "python2"
  },
  "language_info": {
   "codemirror_mode": {
    "name": "ipython",
    "version": 2
   },
   "file_extension": ".py",
   "mimetype": "text/x-python",
   "name": "python",
   "nbconvert_exporter": "python",
   "pygments_lexer": "ipython2",
   "version": "2.7.14"
  }
 },
 "nbformat": 4,
 "nbformat_minor": 2
}
