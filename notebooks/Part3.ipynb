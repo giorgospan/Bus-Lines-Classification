{
 "cells": [
  {
   "cell_type": "markdown",
   "metadata": {},
   "source": [
    "# Part 3"
   ]
  },
  {
   "cell_type": "markdown",
   "metadata": {},
   "source": [
    "Import some modules"
   ]
  },
  {
   "cell_type": "code",
   "execution_count": 1,
   "metadata": {},
   "outputs": [],
   "source": [
    "import pandas as pd\n",
    "import numpy as np\n",
    "import gmplot\n",
    "import time\n",
    "\n",
    "from ast import literal_eval\n",
    "from Queue import PriorityQueue\n",
    "from haversine import haversine\n",
    "from utils import create_dir,pretty_print,remove_time,lcs"
   ]
  },
  {
   "cell_type": "markdown",
   "metadata": {},
   "source": [
    "- Open train_set.csv\n",
    "- Open test_set_a2.csv"
   ]
  },
  {
   "cell_type": "code",
   "execution_count": 2,
   "metadata": {},
   "outputs": [],
   "source": [
    "trainSet = pd.read_csv(\n",
    "'../datasets/train_set.csv',\n",
    "converters={\"Trajectory\": literal_eval},\n",
    "index_col='tripId'\n",
    ")\n",
    "\n",
    "testSet_a2 = pd.read_csv(\n",
    "'../datasets/test_set_a2.csv',\n",
    "sep='\\t',\n",
    "converters={\"Trajectory\": literal_eval},\n",
    ")\n"
   ]
  },
  {
   "cell_type": "markdown",
   "metadata": {},
   "source": [
    "- We remove timestamps because we do not need them .  \n",
    "- Also, we reverse latitude-longitude pairs , because they were given in the wrong order"
   ]
  },
  {
   "cell_type": "code",
   "execution_count": 3,
   "metadata": {},
   "outputs": [],
   "source": [
    "trainSet.apply(func=remove_time,axis=1,reduce=False)\n",
    "testSet_a2.apply(func=remove_time,axis=1,reduce=False);"
   ]
  },
  {
   "cell_type": "markdown",
   "metadata": {},
   "source": [
    "- Create output directories"
   ]
  },
  {
   "cell_type": "code",
   "execution_count": 4,
   "metadata": {},
   "outputs": [],
   "source": [
    "for q in range(len(testSet_a2)):\n",
    "    create_dir('../html_maps/erwthma_a2/query_'+str(q+1))"
   ]
  },
  {
   "cell_type": "markdown",
   "metadata": {},
   "source": [
    "*For each query in test_set_a2.csv:*\n",
    "\n",
    "- Calculate LCS (length of it & the LCS itself) for each trajectory in trainSet\n",
    "- Fetch 5 NN \n",
    "- Print stats\n",
    "- Plot query map\n",
    "- Plot neighbor's whole route with green color\n",
    "- Plot LCS with red color\n",
    "\n",
    "**Note:** Our LCS implementation is based on [Wikipedia's LCS DP algorithm](https://en.wikipedia.org/wiki/Longest_common_subsequence_problem#Code_for_the_dynamic_programming_solution \"LCS Wiki\")"
   ]
  },
  {
   "cell_type": "code",
   "execution_count": 5,
   "metadata": {
    "scrolled": false
   },
   "outputs": [
    {
     "name": "stdout",
     "output_type": "stream",
     "text": [
      "=================\n",
      "Query 1\n",
      "Time =  382.47sec\n",
      "=================\n",
      "Neighbour[1]\n",
      "JP_ID           : 040D1002\n",
      "Matching Points : 78 \n",
      "\n",
      "Neighbour[2]\n",
      "JP_ID           : 040D1002\n",
      "Matching Points : 78 \n",
      "\n",
      "Neighbour[3]\n",
      "JP_ID           : 040D1002\n",
      "Matching Points : 76 \n",
      "\n",
      "Neighbour[4]\n",
      "JP_ID           : 040D1002\n",
      "Matching Points : 76 \n",
      "\n",
      "Neighbour[5]\n",
      "JP_ID           : 040D1002\n",
      "Matching Points : 75 \n",
      "\n",
      "=================\n",
      "Query 2\n",
      "Time =  389.52sec\n",
      "=================\n",
      "Neighbour[1]\n",
      "JP_ID           : 040D1002\n",
      "Matching Points : 82 \n",
      "\n",
      "Neighbour[2]\n",
      "JP_ID           : 040D1002\n",
      "Matching Points : 78 \n",
      "\n",
      "Neighbour[3]\n",
      "JP_ID           : 040D1002\n",
      "Matching Points : 75 \n",
      "\n",
      "Neighbour[4]\n",
      "JP_ID           : 040D1002\n",
      "Matching Points : 74 \n",
      "\n",
      "Neighbour[5]\n",
      "JP_ID           : 040D1002\n",
      "Matching Points : 73 \n",
      "\n",
      "================\n",
      "Query 3\n",
      "Time =  193.7sec\n",
      "================\n",
      "Neighbour[1]\n",
      "JP_ID           : 00790001\n",
      "Matching Points : 40 \n",
      "\n",
      "Neighbour[2]\n",
      "JP_ID           : 01451001\n",
      "Matching Points : 40 \n",
      "\n",
      "Neighbour[3]\n",
      "JP_ID           : 01451001\n",
      "Matching Points : 40 \n",
      "\n",
      "Neighbour[4]\n",
      "JP_ID           : 01451001\n",
      "Matching Points : 40 \n",
      "\n",
      "Neighbour[5]\n",
      "JP_ID           : 01451008\n",
      "Matching Points : 40 \n",
      "\n",
      "=================\n",
      "Query 4\n",
      "Time =  282.86sec\n",
      "=================\n",
      "Neighbour[1]\n",
      "JP_ID           : 00790001\n",
      "Matching Points : 59 \n",
      "\n",
      "Neighbour[2]\n",
      "JP_ID           : 00790001\n",
      "Matching Points : 59 \n",
      "\n",
      "Neighbour[3]\n",
      "JP_ID           : 00790001\n",
      "Matching Points : 59 \n",
      "\n",
      "Neighbour[4]\n",
      "JP_ID           : 00790001\n",
      "Matching Points : 59 \n",
      "\n",
      "Neighbour[5]\n",
      "JP_ID           : 00790001\n",
      "Matching Points : 59 \n",
      "\n",
      "=================\n",
      "Query 5\n",
      "Time =  343.71sec\n",
      "=================\n",
      "Neighbour[1]\n",
      "JP_ID           : 01200001\n",
      "Matching Points : 73 \n",
      "\n",
      "Neighbour[2]\n",
      "JP_ID           : 01200001\n",
      "Matching Points : 73 \n",
      "\n",
      "Neighbour[3]\n",
      "JP_ID           : 01200002\n",
      "Matching Points : 72 \n",
      "\n",
      "Neighbour[4]\n",
      "JP_ID           : 01200001\n",
      "Matching Points : 71 \n",
      "\n",
      "Neighbour[5]\n",
      "JP_ID           : 01200001\n",
      "Matching Points : 71 \n",
      "\n",
      "Total time: 1592.54 sec\n"
     ]
    }
   ],
   "source": [
    "S = time.time()\n",
    "for i,query in testSet_a2.itertuples():\n",
    "    \n",
    "    start_time = time.time()\n",
    "    distances  = PriorityQueue()\n",
    "    for tripId,journeyPatternId,train in trainSet.itertuples():\n",
    "\n",
    "        length, LCS = lcs(query,train)\n",
    "        distances.put((-length,journeyPatternId,LCS,train))\n",
    "        \n",
    "    longest = [(-n[0],n[1],n[2],n[3]) for n in [distances.get() for _ in range(5)] ]\n",
    "    pretty_print(i,time.time() - start_time,longest,flag=2)\n",
    "\n",
    "    # Plot the query\n",
    "    querymap = gmplot.GoogleMapPlotter(53.3498,-6.2603, 14)\n",
    "    lats , lons = [point[0] for point in query] ,[point[1] for point in query]\n",
    "    querymap.plot(lats,lons,color='green',edge_width=5)\n",
    "    querymap.draw('../html_maps/erwthma_a2/query_' + str(i+1) + '/query.html')\n",
    "\n",
    "    for idx,route in enumerate(longest):\n",
    "        LCS              = route[2]\n",
    "        whole_route      = route[3]\n",
    "\n",
    "        gmap = gmplot.GoogleMapPlotter(53.3498,-6.2603, 14)\n",
    "\n",
    "        # Plot neighbor's whole route\n",
    "        lats , lons = [point[0] for point in whole_route] ,[point[1] for point in whole_route]\n",
    "        gmap.plot(lats,lons,color='green',edge_width=5)\n",
    "\n",
    "        # Plot LCS on top of neighbor's whole route\n",
    "        lats , lons = [point[0] for point in LCS] ,[point[1] for point in LCS]\n",
    "        gmap.plot(lats,lons,color='red',edge_width=5)\n",
    "        gmap.draw('../html_maps/erwthma_a2/query_' + str(i+1) + '/neighbour' + str(idx+1) + '.html')\n",
    "\n",
    "print \"Total time: %.2f sec\"%(round(time.time()  - S,2))"
   ]
  }
 ],
 "metadata": {
  "kernelspec": {
   "display_name": "Python 2",
   "language": "python",
   "name": "python2"
  },
  "language_info": {
   "codemirror_mode": {
    "name": "ipython",
    "version": 2
   },
   "file_extension": ".py",
   "mimetype": "text/x-python",
   "name": "python",
   "nbconvert_exporter": "python",
   "pygments_lexer": "ipython2",
   "version": "2.7.14"
  }
 },
 "nbformat": 4,
 "nbformat_minor": 2
}
