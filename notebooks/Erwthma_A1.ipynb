{
 "cells": [
  {
   "cell_type": "markdown",
   "metadata": {},
   "source": [
    "# Erwthma A1"
   ]
  },
  {
   "cell_type": "markdown",
   "metadata": {},
   "source": [
    "Import some modules"
   ]
  },
  {
   "cell_type": "code",
   "execution_count": 1,
   "metadata": {},
   "outputs": [],
   "source": [
    "import pandas as pd\n",
    "import numpy as np\n",
    "import gmplot\n",
    "import random\n",
    "import time\n",
    "\n",
    "from Queue import PriorityQueue\n",
    "from fastdtw import fastdtw,dtw\n",
    "from haversine import haversine\n",
    "from ast import literal_eval\n",
    "from utils import create_dir,pretty_print,remove_time,mydtw"
   ]
  },
  {
   "cell_type": "markdown",
   "metadata": {},
   "source": [
    "- Open train_set.csv\n",
    "- Open test_set_a1.csv"
   ]
  },
  {
   "cell_type": "code",
   "execution_count": 2,
   "metadata": {},
   "outputs": [],
   "source": [
    "trainSet = pd.read_csv(\n",
    "'../datasets/train_set.csv',\n",
    "converters={\"Trajectory\": literal_eval},\n",
    "index_col='tripId'\n",
    ")\n",
    "\n",
    "testSet_a1 = pd.read_csv(\n",
    "'../datasets/test_set_a1.csv',\n",
    "sep='\\t',\n",
    "converters={\"Trajectory\": literal_eval},\n",
    ")"
   ]
  },
  {
   "cell_type": "markdown",
   "metadata": {},
   "source": [
    "- We remove timestamps because we do not need them .  \n",
    "- Also, we reverse latitude-longitude pairs , because they were given in the wrong order"
   ]
  },
  {
   "cell_type": "code",
   "execution_count": 3,
   "metadata": {},
   "outputs": [],
   "source": [
    "trainSet.apply(func=remove_time,axis=1,reduce=False)\n",
    "testSet_a1.apply(func=remove_time,axis=1,reduce=False);"
   ]
  },
  {
   "cell_type": "markdown",
   "metadata": {},
   "source": [
    "- Create output directories"
   ]
  },
  {
   "cell_type": "code",
   "execution_count": 4,
   "metadata": {},
   "outputs": [],
   "source": [
    "for q in range(len(testSet_a1)):\n",
    "    create_dir('../html_maps/erwthma_a1/query_'+str(q+1))"
   ]
  },
  {
   "cell_type": "markdown",
   "metadata": {},
   "source": [
    "*For each query in test_set_a1.csv:*   \n",
    "\n",
    "- Find 5 Nearest Neighbors using [fastdtw](https://github.com/slaypni/fastdtw \"fastdtw github\") or mydtw (i.e: the slow one,based on [wikipedia's pseudocode](https://en.wikipedia.org/wiki/Dynamic_time_warping#Implementation \"Wikipedia DTW\"))\n",
    "- Print stats\n",
    "- Plot query map\n",
    "- Plot its 5 nearest neighbors' maps\n",
    "\n",
    "**Notes:**   \n",
    "- We used [haversine module](https://github.com/mapado/haversine \"haversine github\") for computing haversine's distance .\n",
    "- [fastdtw module](https://github.com/slaypni/fastdtw \"fastdtw github\") provides also a classic\\[optimal\\] dtw implementation, called \"dtw\". It is slower than our own implementation due to some array preprocessing , but both give the exact same results . "
   ]
  },
  {
   "cell_type": "code",
   "execution_count": 5,
   "metadata": {
    "scrolled": false
   },
   "outputs": [
    {
     "name": "stdout",
     "output_type": "stream",
     "text": [
      "=================\n",
      "Query 1\n",
      "Time =  135.59sec\n",
      "=================\n",
      "Neighbour[1]\n",
      "JP_ID : 01501001\n",
      "DTW   : 0.0 km \n",
      "\n",
      "Neighbour[2]\n",
      "JP_ID : 01501001\n",
      "DTW   : 3.5 km \n",
      "\n",
      "Neighbour[3]\n",
      "JP_ID : 01501001\n",
      "DTW   : 3.8 km \n",
      "\n",
      "Neighbour[4]\n",
      "JP_ID : 01501001\n",
      "DTW   : 4.0 km \n",
      "\n",
      "Neighbour[5]\n",
      "JP_ID : 01501001\n",
      "DTW   : 4.1 km \n",
      "\n",
      "=================\n",
      "Query 2\n",
      "Time =  102.34sec\n",
      "=================\n",
      "Neighbour[1]\n",
      "JP_ID : 01200001\n",
      "DTW   : 0.0 km \n",
      "\n",
      "Neighbour[2]\n",
      "JP_ID : 01200001\n",
      "DTW   : 2.8 km \n",
      "\n",
      "Neighbour[3]\n",
      "JP_ID : 01200001\n",
      "DTW   : 3.4 km \n",
      "\n",
      "Neighbour[4]\n",
      "JP_ID : 01200001\n",
      "DTW   : 3.4 km \n",
      "\n",
      "Neighbour[5]\n",
      "JP_ID : 01200001\n",
      "DTW   : 3.5 km \n",
      "\n",
      "=================\n",
      "Query 3\n",
      "Time =  136.89sec\n",
      "=================\n",
      "Neighbour[1]\n",
      "JP_ID : 00791001\n",
      "DTW   : 0.0 km \n",
      "\n",
      "Neighbour[2]\n",
      "JP_ID : 00791001\n",
      "DTW   : 4.7 km \n",
      "\n",
      "Neighbour[3]\n",
      "JP_ID : 00791001\n",
      "DTW   : 4.8 km \n",
      "\n",
      "Neighbour[4]\n",
      "JP_ID : 00791001\n",
      "DTW   : 4.8 km \n",
      "\n",
      "Neighbour[5]\n",
      "JP_ID : 00791001\n",
      "DTW   : 4.9 km \n",
      "\n",
      "=================\n",
      "Query 4\n",
      "Time =  113.29sec\n",
      "=================\n",
      "Neighbour[1]\n",
      "JP_ID : 00010002\n",
      "DTW   : 0.0 km \n",
      "\n",
      "Neighbour[2]\n",
      "JP_ID : 00010002\n",
      "DTW   : 2.5 km \n",
      "\n",
      "Neighbour[3]\n",
      "JP_ID : 00010002\n",
      "DTW   : 2.8 km \n",
      "\n",
      "Neighbour[4]\n",
      "JP_ID : 00010002\n",
      "DTW   : 3.2 km \n",
      "\n",
      "Neighbour[5]\n",
      "JP_ID : 00010002\n",
      "DTW   : 3.5 km \n",
      "\n",
      "=================\n",
      "Query 5\n",
      "Time =  109.58sec\n",
      "=================\n",
      "Neighbour[1]\n",
      "JP_ID : 01300001\n",
      "DTW   : 0.0 km \n",
      "\n",
      "Neighbour[2]\n",
      "JP_ID : 01300001\n",
      "DTW   : 4.3 km \n",
      "\n",
      "Neighbour[3]\n",
      "JP_ID : 01300001\n",
      "DTW   : 4.5 km \n",
      "\n",
      "Neighbour[4]\n",
      "JP_ID : 01300001\n",
      "DTW   : 4.6 km \n",
      "\n",
      "Neighbour[5]\n",
      "JP_ID : 01300001\n",
      "DTW   : 4.7 km \n",
      "\n",
      "Total time: 597.93 sec\n"
     ]
    }
   ],
   "source": [
    "S = time.time()\n",
    "\n",
    "for i,query in testSet_a1.itertuples():    \n",
    "    \n",
    "    start_time = time.time()\n",
    "    distances  = PriorityQueue()\n",
    "    for tripId,journeyPatternId,train in trainSet.itertuples():\n",
    "        \n",
    "        dist = fastdtw(query,train,dist=haversine)[0]\n",
    "#         dist = mydtw(query,train,dist=haversine)[0]\n",
    "#         dist = dtw(query,train,dist=haversine)[0]\n",
    "        \n",
    "        distances.put((dist,journeyPatternId,train))\n",
    "        \n",
    "    nearest = [distances.get() for _ in range(5)]\n",
    "    pretty_print(i,time.time() - start_time,nearest)\n",
    "\n",
    "    # Print query\n",
    "    querymap = gmplot.GoogleMapPlotter(53.3498,-6.2603, 14)\n",
    "    lats , lons = [point[0] for point in query] ,[point[1] for point in query]\n",
    "    querymap.plot(lats,lons,color='green',edge_width=5)\n",
    "    querymap.draw('../html_maps/erwthma_a1/query_' + str(i+1) + '/query.html')\n",
    "\n",
    "    # Print neighbors\n",
    "    for idx,n in enumerate(nearest):\n",
    "        lats , lons = [point[0] for point in n[2]] ,[point[1] for point in n[2]]\n",
    "        neighbourmap = gmplot.GoogleMapPlotter(53.3498,-6.2603, 14)\n",
    "        neighbourmap.plot(lats,lons,color='green',edge_width=5)\n",
    "        neighbourmap.draw('../html_maps/erwthma_a1/query_' + str(i+1) + '/neighbour' + str(idx+1) + '.html')\n",
    "        \n",
    "print \"Total time: %.2f sec\"%(round(time.time()  - S,2))"
   ]
  }
 ],
 "metadata": {
  "kernelspec": {
   "display_name": "Python 2",
   "language": "python",
   "name": "python2"
  },
  "language_info": {
   "codemirror_mode": {
    "name": "ipython",
    "version": 2
   },
   "file_extension": ".py",
   "mimetype": "text/x-python",
   "name": "python",
   "nbconvert_exporter": "python",
   "pygments_lexer": "ipython2",
   "version": "2.7.14"
  },
  "widgets": {
   "application/vnd.jupyter.widget-state+json": {
    "state": {},
    "version_major": 2,
    "version_minor": 0
   }
  }
 },
 "nbformat": 4,
 "nbformat_minor": 2
}
