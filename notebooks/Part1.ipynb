{
 "cells": [
  {
   "cell_type": "markdown",
   "metadata": {},
   "source": [
    "# Part 1"
   ]
  },
  {
   "cell_type": "markdown",
   "metadata": {},
   "source": [
    "Import some modules"
   ]
  },
  {
   "cell_type": "code",
   "execution_count": 1,
   "metadata": {},
   "outputs": [],
   "source": [
    "import pandas as pd\n",
    "import numpy as np\n",
    "import gmplot\n",
    "import random\n",
    "\n",
    "from ast import literal_eval\n",
    "from utils import create_dir"
   ]
  },
  {
   "cell_type": "markdown",
   "metadata": {},
   "source": [
    "- Open train_set.csv"
   ]
  },
  {
   "cell_type": "code",
   "execution_count": 2,
   "metadata": {},
   "outputs": [],
   "source": [
    "trainSet = pd.read_csv(\n",
    "'../datasets/train_set.csv',\n",
    "converters={\"Trajectory\": literal_eval},\n",
    "index_col='tripId'\n",
    ")"
   ]
  },
  {
   "cell_type": "markdown",
   "metadata": {},
   "source": [
    "- Create output directory"
   ]
  },
  {
   "cell_type": "code",
   "execution_count": 3,
   "metadata": {},
   "outputs": [],
   "source": [
    "create_dir('../html_maps/erwthma_1')    "
   ]
  },
  {
   "cell_type": "markdown",
   "metadata": {},
   "source": [
    "- Seeding "
   ]
  },
  {
   "cell_type": "code",
   "execution_count": 4,
   "metadata": {},
   "outputs": [],
   "source": [
    "random.seed(10)"
   ]
  },
  {
   "cell_type": "markdown",
   "metadata": {},
   "source": [
    "- Pick 5 random journeyPatterIds"
   ]
  },
  {
   "cell_type": "code",
   "execution_count": 5,
   "metadata": {},
   "outputs": [],
   "source": [
    "labels = random.sample(set(trainSet.journeyPatternId),5)"
   ]
  },
  {
   "cell_type": "markdown",
   "metadata": {},
   "source": [
    "*For each of the 5 journeyPatternIds:*\n",
    "- Fetch all trajectories belonging to it.\n",
    "- Pick a random one\n",
    "- Plot it using gmplot library"
   ]
  },
  {
   "cell_type": "code",
   "execution_count": 6,
   "metadata": {
    "scrolled": true
   },
   "outputs": [
    {
     "name": "stdout",
     "output_type": "stream",
     "text": [
      "Maps plotted: \n",
      "==================\n",
      "JP_ID[0] :067X0001\n",
      "JP_ID[1] :01231001\n",
      "JP_ID[2] :00491002\n",
      "JP_ID[3] :038A1002\n",
      "JP_ID[4] :00691001\n"
     ]
    }
   ],
   "source": [
    "print 'Maps plotted: '\n",
    "print '=================='\n",
    "for index,jp_id in enumerate(labels):\n",
    "    \n",
    "    trajectories = trainSet.loc[trainSet.journeyPatternId ==jp_id,'Trajectory']\n",
    "    traj         = random.sample(trajectories,1)[0]\n",
    "    lons , lats  = [point[1] for point in traj] ,[point[2] for point in traj]\n",
    "    \n",
    "    gmap         = gmplot.GoogleMapPlotter(53.3498,-6.2603, 14)\n",
    "    gmap.plot(lats,lons,color='green',edge_width=5)\n",
    "    gmap.draw('../html_maps/erwthma_1/journey_'+jp_id+'.html')\n",
    "    \n",
    "    print 'JP_ID[%d] :%s'%(index,jp_id)"
   ]
  }
 ],
 "metadata": {
  "kernelspec": {
   "display_name": "Python 2",
   "language": "python",
   "name": "python2"
  },
  "language_info": {
   "codemirror_mode": {
    "name": "ipython",
    "version": 2
   },
   "file_extension": ".py",
   "mimetype": "text/x-python",
   "name": "python",
   "nbconvert_exporter": "python",
   "pygments_lexer": "ipython2",
   "version": "2.7.14"
  }
 },
 "nbformat": 4,
 "nbformat_minor": 2
}
