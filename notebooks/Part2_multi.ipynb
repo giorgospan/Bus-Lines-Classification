{
 "cells": [
  {
   "cell_type": "markdown",
   "metadata": {},
   "source": [
    "# Part 2 (Multiprocessing)"
   ]
  },
  {
   "cell_type": "markdown",
   "metadata": {},
   "source": [
    "Import some modules"
   ]
  },
  {
   "cell_type": "code",
   "execution_count": 1,
   "metadata": {},
   "outputs": [],
   "source": [
    "import pandas as pd\n",
    "import numpy as np\n",
    "import gmplot\n",
    "import random\n",
    "import time\n",
    "\n",
    "from Queue import PriorityQueue\n",
    "from fastdtw import fastdtw,dtw\n",
    "from haversine import haversine\n",
    "from ast import literal_eval\n",
    "from utils import create_dir,pretty_print,remove_time,mydtw\n",
    "from multiprocessing import Pool,Queue"
   ]
  },
  {
   "cell_type": "markdown",
   "metadata": {},
   "source": [
    "- Open train_set.csv\n",
    "- Open test_set_a1.csv"
   ]
  },
  {
   "cell_type": "code",
   "execution_count": 2,
   "metadata": {},
   "outputs": [],
   "source": [
    "trainSet = pd.read_csv(\n",
    "'../datasets/train_set.csv',\n",
    "converters={\"Trajectory\": literal_eval},\n",
    "index_col='tripId'\n",
    ")\n",
    "\n",
    "testSet_a1 = pd.read_csv(\n",
    "'../datasets/test_set_a1.csv',\n",
    "sep='\\t',\n",
    "converters={\"Trajectory\": literal_eval},\n",
    ")"
   ]
  },
  {
   "cell_type": "markdown",
   "metadata": {},
   "source": [
    "- We remove timestamps because we do not need them .  \n",
    "- Also, we reverse latitude-longitude pairs , because they were given in the wrong order"
   ]
  },
  {
   "cell_type": "code",
   "execution_count": 3,
   "metadata": {},
   "outputs": [],
   "source": [
    "trainSet.apply(func=remove_time,axis=1,reduce=False)\n",
    "testSet_a1.apply(func=remove_time,axis=1,reduce=False);"
   ]
  },
  {
   "cell_type": "markdown",
   "metadata": {},
   "source": [
    "- Create output directories"
   ]
  },
  {
   "cell_type": "code",
   "execution_count": 4,
   "metadata": {},
   "outputs": [],
   "source": [
    "for q in range(len(testSet_a1)):\n",
    "    create_dir('../html_maps/erwthma_a1/query_'+str(q+1))"
   ]
  },
  {
   "cell_type": "markdown",
   "metadata": {},
   "source": [
    "- Split trainSet into chunks \n",
    "\n",
    "**Note:**\n",
    "Set the number of parallel processes according to your CPU/RAM specs"
   ]
  },
  {
   "cell_type": "code",
   "execution_count": 5,
   "metadata": {},
   "outputs": [],
   "source": [
    "procs = 5\n",
    "chunk_size = len(trainSet) // procs\n",
    "splits = [df for g, df in trainSet.groupby(np.arange(len(trainSet)) // chunk_size)]"
   ]
  },
  {
   "cell_type": "markdown",
   "metadata": {},
   "source": [
    "- This is the function that each process will run\n",
    "\n",
    "**Notes:**   \n",
    "- We used [haversine module](https://github.com/mapado/haversine \"haversine github\") for computing haversine's distance .\n",
    "- [fastdtw module](https://github.com/slaypni/fastdtw \"fastdtw github\") provides also a classic\\[optimal\\] dtw implementation, called \"dtw\". It is slower than our own implementation due to some array preprocessing , but both give the exact same results . "
   ]
  },
  {
   "cell_type": "code",
   "execution_count": 6,
   "metadata": {
    "scrolled": true
   },
   "outputs": [],
   "source": [
    "def process_function(train_split):\n",
    "    \"\"\"\n",
    "    Calculate DTW distance using Haversine's formula\n",
    "    Append it to distance queue\n",
    "    Note: This queue is shared among the processes\n",
    "    \"\"\"\n",
    "\n",
    "    for tripId,journeyPatternId,train in train_split.itertuples():\n",
    "        dist = fastdtw(query,train,dist=haversine)[0]\n",
    "#         dist = mydtw(query,train,dist=haversine)[0]\n",
    "#         dist = dtw(query,train,dist=haversine)[0]\n",
    "        distances.put((dist,journeyPatternId,train))\n"
   ]
  },
  {
   "cell_type": "markdown",
   "metadata": {},
   "source": [
    "*For each query in test_set_a1.csv:*   \n",
    "\n",
    "- Create a pool of processes | Use a *process-safe queue* for storing each calculated distance\n",
    "- Find 5 NN using [fastdtw](https://github.com/slaypni/fastdtw \"fastdtw github\") or mydtw (i.e: the slow one,based on [wikipedia's pseudocode](https://en.wikipedia.org/wiki/Dynamic_time_warping#Implementation \"Wikipedia DTW\"))\n",
    "- Print stats\n",
    "- Plot query map\n",
    "- Plot its 5 nearest neighbors' maps\n",
    "\n",
    "**Notes:** \n",
    "- The *if _\\_name__*  part is necessary on Windows\n",
    "- map() blocks until all tasks are finished"
   ]
  },
  {
   "cell_type": "code",
   "execution_count": 7,
   "metadata": {
    "scrolled": false
   },
   "outputs": [
    {
     "name": "stdout",
     "output_type": "stream",
     "text": [
      "================\n",
      "Query 1\n",
      "Time =  55.32sec\n",
      "================\n",
      "Neighbour[1]\n",
      "JP_ID : 01501001\n",
      "DTW   : 0.0 km \n",
      "\n",
      "Neighbour[2]\n",
      "JP_ID : 01501001\n",
      "DTW   : 3.5 km \n",
      "\n",
      "Neighbour[3]\n",
      "JP_ID : 01501001\n",
      "DTW   : 3.8 km \n",
      "\n",
      "Neighbour[4]\n",
      "JP_ID : 01501001\n",
      "DTW   : 4.0 km \n",
      "\n",
      "Neighbour[5]\n",
      "JP_ID : 01501001\n",
      "DTW   : 4.1 km \n",
      "\n",
      "================\n",
      "Query 2\n",
      "Time =  33.03sec\n",
      "================\n",
      "Neighbour[1]\n",
      "JP_ID : 01200001\n",
      "DTW   : 0.0 km \n",
      "\n",
      "Neighbour[2]\n",
      "JP_ID : 01200001\n",
      "DTW   : 2.8 km \n",
      "\n",
      "Neighbour[3]\n",
      "JP_ID : 01200001\n",
      "DTW   : 3.4 km \n",
      "\n",
      "Neighbour[4]\n",
      "JP_ID : 01200001\n",
      "DTW   : 3.4 km \n",
      "\n",
      "Neighbour[5]\n",
      "JP_ID : 01200001\n",
      "DTW   : 3.5 km \n",
      "\n",
      "================\n",
      "Query 3\n",
      "Time =  45.12sec\n",
      "================\n",
      "Neighbour[1]\n",
      "JP_ID : 00791001\n",
      "DTW   : 0.0 km \n",
      "\n",
      "Neighbour[2]\n",
      "JP_ID : 00791001\n",
      "DTW   : 4.7 km \n",
      "\n",
      "Neighbour[3]\n",
      "JP_ID : 00791001\n",
      "DTW   : 4.8 km \n",
      "\n",
      "Neighbour[4]\n",
      "JP_ID : 00791001\n",
      "DTW   : 4.8 km \n",
      "\n",
      "Neighbour[5]\n",
      "JP_ID : 00791001\n",
      "DTW   : 4.9 km \n",
      "\n",
      "================\n",
      "Query 4\n",
      "Time =  37.77sec\n",
      "================\n",
      "Neighbour[1]\n",
      "JP_ID : 00010002\n",
      "DTW   : 0.0 km \n",
      "\n",
      "Neighbour[2]\n",
      "JP_ID : 00010002\n",
      "DTW   : 2.5 km \n",
      "\n",
      "Neighbour[3]\n",
      "JP_ID : 00010002\n",
      "DTW   : 2.8 km \n",
      "\n",
      "Neighbour[4]\n",
      "JP_ID : 00010002\n",
      "DTW   : 3.2 km \n",
      "\n",
      "Neighbour[5]\n",
      "JP_ID : 00010002\n",
      "DTW   : 3.5 km \n",
      "\n",
      "================\n",
      "Query 5\n",
      "Time =  36.83sec\n",
      "================\n",
      "Neighbour[1]\n",
      "JP_ID : 01300001\n",
      "DTW   : 0.0 km \n",
      "\n",
      "Neighbour[2]\n",
      "JP_ID : 01300001\n",
      "DTW   : 4.3 km \n",
      "\n",
      "Neighbour[3]\n",
      "JP_ID : 01300001\n",
      "DTW   : 4.5 km \n",
      "\n",
      "Neighbour[4]\n",
      "JP_ID : 01300001\n",
      "DTW   : 4.6 km \n",
      "\n",
      "Neighbour[5]\n",
      "JP_ID : 01300001\n",
      "DTW   : 4.7 km \n",
      "\n",
      "Total time: 208.71 sec\n"
     ]
    }
   ],
   "source": [
    "if __name__ == '__main__':\n",
    "    S = time.time()\n",
    "\n",
    "    for i,query in testSet_a1.itertuples(): \n",
    "\n",
    "        start_time = time.time()\n",
    "        distances  = Queue()\n",
    "\n",
    "        pool = Pool(processes=procs)\n",
    "        pool.map(process_function,splits)\n",
    "        pool.close()\n",
    "\n",
    "        nearest = sorted([distances.get() for _ in range(distances.qsize())])[:5]\n",
    "        pretty_print(i,time.time() - start_time,nearest)\n",
    "        \n",
    "        # Print query\n",
    "        querymap = gmplot.GoogleMapPlotter(53.3498,-6.2603, 14)\n",
    "        lats , lons = [point[0] for point in query] ,[point[1] for point in query]\n",
    "        querymap.plot(lats,lons,color='green',edge_width=5)\n",
    "        querymap.draw('../html_maps/erwthma_a1/query_' + str(i+1) + '/query.html')\n",
    "        \n",
    "        # Print neighbors\n",
    "        for idx,n in enumerate(nearest):\n",
    "            lats , lons = [point[0] for point in n[2]] ,[point[1] for point in n[2]]\n",
    "            neighbourmap = gmplot.GoogleMapPlotter(53.3498,-6.2603, 14)\n",
    "            neighbourmap.plot(lats,lons,color='green',edge_width=5)\n",
    "            neighbourmap.draw('../html_maps/erwthma_a1/query_' + str(i+1) + '/neighbour' + str(idx+1) + '.html')\n",
    "\n",
    "    print \"Total time: %.2f sec\"%(round(time.time()  - S,2))\n"
   ]
  }
 ],
 "metadata": {
  "kernelspec": {
   "display_name": "Python 2",
   "language": "python",
   "name": "python2"
  },
  "language_info": {
   "codemirror_mode": {
    "name": "ipython",
    "version": 2
   },
   "file_extension": ".py",
   "mimetype": "text/x-python",
   "name": "python",
   "nbconvert_exporter": "python",
   "pygments_lexer": "ipython2",
   "version": "2.7.14"
  },
  "widgets": {
   "application/vnd.jupyter.widget-state+json": {
    "state": {},
    "version_major": 2,
    "version_minor": 0
   }
  }
 },
 "nbformat": 4,
 "nbformat_minor": 2
}
